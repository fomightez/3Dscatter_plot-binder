{
 "cells": [
  {
   "cell_type": "markdown",
   "metadata": {
    "slideshow": {
     "slide_type": "slide"
    }
   },
   "source": [
    "# 3D scatter plot with adjustable settings\n",
    "\n",
    "\n",
    "The idea is that some settings can be offered as selectable settings via a graphical user interface to enable keying in a good combination faster.\n",
    "\n",
    "Note that the use of these approach to add adjustable settings is on another notebook page as it doesn't play well with the use of `%matplotlib notebook` that is encouraged on [the introductory notebook page](index.ipynb).\n",
    "\n",
    "\n",
    "The example here works with with the use of `%matplotlib notebook`; however, it is extra 'choppy'/'laggy'.\n",
    "\n",
    "\n",
    "------\n",
    "\n",
    "<div class=\"alert alert-block alert-warning\">\n",
    "<p>If you haven't used one of these notebooks before, they're basically web pages in which you can write, edit, and run live code. They're meant to encourage experimentation, so don't feel nervous. Just try running a few cells and see what happens!.</p>\n",
    "\n",
    "<p>\n",
    "    Some tips:\n",
    "    <ul>\n",
    "        <li>Code cells have boxes around them.</li>\n",
    "        <li>To run a code cell either click the Play icon on the menu bar above, or click on the cell and then hit <b>Shift+Enter</b>. The <b>Shift+Enter</b> combo will also move you to the next cell, so it's a quick way to work through the notebook.</li>\n",
    "        <li>While a cell is running a <b>*</b> appears in the square brackets next to the cell. Once the cell has finished running the asterisk will be replaced with a number.</li>\n",
    "        <li>In most cases you'll want to start from the top of notebook and work your way down running each cell in turn. Later cells might depend on the results of earlier ones.</li>\n",
    "        <li>To edit a code cell, just click on it and type stuff. Remember to run the cell once you've finished editing.</li>\n",
    "    </ul>\n",
    "</p>\n",
    "</div>\n",
    "\n",
    "\n"
   ]
  },
  {
   "cell_type": "markdown",
   "metadata": {},
   "source": [
    "-------\n",
    "\n",
    "## Matplotlib example with legend and adjustable options\n",
    "\n",
    "The palette, view angles, opacity of spheres, and color gradient atrribute is adjustable using widgets.\n",
    "\n",
    "This is based on the Matplotlib examples in the first notebook [here](https://github.com/fomightez/3Dscatter_plot-binder) combined with [ipywidgets adjusting plot options](https://github.com/binder-examples/jupyter-extension).\n",
    "\n",
    "\n",
    "**When this notebook is opened in active form, the old plot will not be seen. You need to re-run the cells to see the output & widgets for adjusting the settings.**"
   ]
  },
  {
   "cell_type": "code",
   "execution_count": 1,
   "metadata": {},
   "outputs": [
    {
     "name": "stdout",
     "output_type": "stream",
     "text": [
      "  % Total    % Received % Xferd  Average Speed   Time    Time     Time  Current\n",
      "                                 Dload  Upload   Total   Spent    Left  Speed\n",
      "100 84199  100 84199    0     0   241k      0 --:--:-- --:--:-- --:--:--  241k\n",
      "  % Total    % Received % Xferd  Average Speed   Time    Time     Time  Current\n",
      "                                 Dload  Upload   Total   Spent    Left  Speed\n",
      "100  258k  100  258k    0     0   542k      0 --:--:-- --:--:-- --:--:--  542k\n",
      "red wines: 1599\n",
      "white wines: 4898\n",
      "wines: 6497\n",
      "\n",
      "ADJUSTABLE SETTINGS:\n"
     ]
    },
    {
     "data": {
      "application/vnd.jupyter.widget-view+json": {
       "model_id": "4ea98bc42f9c4cf6be6324610f0b7405",
       "version_major": 2,
       "version_minor": 0
      },
      "text/plain": [
       "interactive(children=(FloatSlider(value=0.75, continuous_update=False, description='opacity', max=1.0, readout…"
      ]
     },
     "metadata": {},
     "output_type": "display_data"
    }
   ],
   "source": [
    "%matplotlib inline\n",
    "import pandas as pd\n",
    "import matplotlib.pyplot as plt\n",
    "import matplotlib as mpl\n",
    "import numpy as np\n",
    "import seaborn as sns\n",
    "from mpl_toolkits.mplot3d import Axes3D\n",
    "from ipywidgets import interact\n",
    "from ipywidgets.widgets import FloatSlider, IntSlider, Dropdown\n",
    "plt.ion()\n",
    "\n",
    "!curl -OL https://archive.ics.uci.edu/ml/machine-learning-databases/wine-quality/winequality-red.csv\n",
    "!curl -OL https://archive.ics.uci.edu/ml/machine-learning-databases/wine-quality/winequality-white.csv\n",
    "red_wine   = pd.read_csv('winequality-red.csv',   sep=';')\n",
    "white_wine = pd.read_csv('winequality-white.csv', sep=';')\n",
    "wines = pd.concat([red_wine,white_wine], ignore_index=True)\n",
    "print(\"red wines:\",len(red_wine))\n",
    "print(\"white wines:\",len(white_wine))\n",
    "print(\"wines:\",len(wines))\n",
    "print(\"\\nADJUSTABLE SETTINGS:\")\n",
    "\n",
    "xs = wines['residual sugar']\n",
    "ys = wines['fixed acidity']\n",
    "zs = wines['alcohol']\n",
    "\n",
    "cmaps = ['coolwarm', 'viridis', 'magma','plasma','RdYlBu','YlGnBu','hsv']\n",
    "v_angles = [\"30, 185\",\"50, 185\",\"230,110\",\"1,140\"]\n",
    "\n",
    "view_widget = Dropdown(options=v_angles)\n",
    "elevation_widget= IntSlider(value=30, min=0, max=360,step=5, continuous_update=False)\n",
    "azimuth_widget= IntSlider(value=185, min=0, max=360,step=5, continuous_update=False)\n",
    "def update_elevation_and_azimuth(*args):\n",
    "    view_nums = view_widget.value.split(\",\")\n",
    "    view_nums = [int(x) for x in view_nums]\n",
    "    elevation_widget.value, azimuth_widget.value = view_nums\n",
    "view_widget.observe(update_elevation_and_azimuth, 'value')\n",
    "\n",
    "def plot_data(opacity, cmap, coloring,marker_size,view_choice,elevation,azimuth):\n",
    "    fig = plt.figure(figsize=(9.5, 6))\n",
    "    ax = fig.add_subplot(111, projection='3d')\n",
    "    #norm = mpl.colors.Normalize(vmin=min(wines[coloring],), vmax=max(wines[coloring],))\n",
    "    g = ax.scatter(xs, ys, zs, s=marker_size, alpha=opacity, edgecolors='w', marker='o', depthshade=False, c=wines[coloring], cmap=cmap)\n",
    "    ax.view_init(elevation,azimuth)\n",
    "    ax.set_xlabel('Residual Sugar')\n",
    "    ax.set_ylabel('Fixed Acidity')\n",
    "    ax.set_zlabel('Alcohol')\n",
    "    clb = fig.colorbar(g)\n",
    "    clb.solids.set_edgecolor(\"face\") #based on https://stackoverflow.com/a/5495912/8508004; \n",
    "    # addition of `.solids.set_edgecolor(\"face\")` based on https://matplotlib.org/3.1.0/api/_as_gen/matplotlib.pyplot.colorbar.html to \n",
    "    # avoid banding seen with just `fig.colorbar(g)` along with ipywidgets use; note it needed further adjusting to \n",
    "    # clb.solids.set_edgecolor(\"face\") when added title to colorbar based on https://stackoverflow.com/a/33740567/8508004\n",
    "    clb.ax.set_title(coloring) #adding title based on https://stackoverflow.com/a/33740567/8508004\n",
    "    plt.show()\n",
    "\n",
    "p = interact(plot_data,\n",
    "             opacity=FloatSlider(value=0.75, min=0, max=1.0, step=0.05, readout_format='.3f', continuous_update=False),\n",
    "             cmap=Dropdown(value='magma',options=cmaps),\n",
    "             coloring=Dropdown(value='alcohol',options=['residual sugar','fixed acidity','alcohol']),\n",
    "             marker_size= IntSlider(value=50, min=10, max=180,step=10, continuous_update=False),\n",
    "             view_choice=view_widget,\n",
    "             elevation= elevation_widget,\n",
    "             azimuth= azimuth_widget\n",
    "            )"
   ]
  },
  {
   "cell_type": "markdown",
   "metadata": {},
   "source": [
    "-------\n",
    "\n",
    "## Plotly examples with legend and adjustable options\n",
    "\n",
    "You shouldn't need to run the above code first.\n",
    "\n",
    "\n",
    "### Plotly Express example\n",
    "\n",
    "The palette, view angles, opacity of spheres, and color gradient atrribute is adjustable using widgets.\n",
    "\n",
    "This is based on the Plotly examples [here](https://github.com/fomightez/Plotly3d-scatter-plots.ipynb) combined with [ipywidgets adjusting plot options](https://github.com/binder-examples/jupyter-extension).\n",
    "\n",
    "**When this notebook is opened in active form, the old plot will not be seen. You need to re-run the cells to see the output & widgets for adjusting the settings.**"
   ]
  },
  {
   "cell_type": "code",
   "execution_count": 2,
   "metadata": {},
   "outputs": [
    {
     "data": {
      "application/vnd.jupyter.widget-view+json": {
       "model_id": "479683f1f6ae45caa987717d7280285b",
       "version_major": 2,
       "version_minor": 0
      },
      "text/plain": [
       "interactive(children=(FloatSlider(value=0.75, continuous_update=False, description='opacity', max=1.0, readout…"
      ]
     },
     "metadata": {},
     "output_type": "display_data"
    }
   ],
   "source": [
    "import pandas as pd\n",
    "import matplotlib.pyplot as plt\n",
    "import numpy as np\n",
    "import seaborn as sns\n",
    "from mpl_toolkits.mplot3d import Axes3D\n",
    "from ipywidgets import interact\n",
    "from ipywidgets.widgets import FloatSlider, IntSlider, Dropdown\n",
    "#plt.ion()\n",
    "import plotly.express as px\n",
    "\n",
    "df = px.data.iris()\n",
    "\n",
    "cmaps = ['viridis', 'magma','plasma','icefire','RdYlBu','YlGnBu','hsv']\n",
    "v_angles = [\"1.5, 1.5, 0.7\",\"1, 1, 0.1\",\"2, 2, 0.1\",\"1.5, 0.01, 0.01\",\"1.0, 0.3, 0.99\",\"1.2, 0.9, 0.5\",\"1.0, 0.6, 1.2\"]\n",
    "view_widget = Dropdown(options=v_angles)\n",
    "camera_x_widget= FloatSlider(value=1.5, min=0, max=2.5, step=0.05, readout_format='.3f', continuous_update=False)\n",
    "camera_y_widget= FloatSlider(value=1.5, min=0, max=2.5, step=0.05, readout_format='.3f', continuous_update=False)\n",
    "camera_z_widget= FloatSlider(value=0.7, min=0, max=2.5, step=0.05, readout_format='.3f', continuous_update=False)\n",
    "def update_camera_eye(*args):\n",
    "    view_nums = view_widget.value.split(\",\")\n",
    "    view_nums = [float(x) for x in view_nums]\n",
    "    camera_x_widget.value,camera_y_widget.value,camera_z_widget.value = view_nums\n",
    "view_widget.observe(update_camera_eye, 'value')\n",
    "def plot_data(opacity, cmap, coloring,marker_size,view_choice,camera_x,camera_y,camera_z):\n",
    "    fig = px.scatter_3d(df, x='sepal_length', y='sepal_width', z='petal_width', \n",
    "        color=coloring, opacity=opacity, color_continuous_scale=cmap)\n",
    "    camera = dict(\n",
    "    eye=dict(x= camera_x, y=camera_y, z=camera_z)\n",
    "    )\n",
    "    fig.update_layout(scene_camera=camera)\n",
    "    fig.update_traces(marker=dict(size=marker_size), #adjusting size of marker in express based on https://plotly.com/python/marker-style/\n",
    "                  selector=dict(mode='markers'))\n",
    "    fig.show()\n",
    "\n",
    "p = interact(plot_data,\n",
    "             opacity=FloatSlider(value=0.75, min=0, max=1.0, step=0.05, readout_format='.3f', continuous_update=False),\n",
    "             cmap=Dropdown(value='magma',options=cmaps),\n",
    "             coloring=Dropdown(value='petal_length',options=['petal_length','sepal_width','petal_width']),\n",
    "             marker_size= IntSlider(value=8, min=3, max=15, continuous_update=False),\n",
    "             view_choice=view_widget,\n",
    "             camera_x = camera_x_widget,\n",
    "             camera_y = camera_y_widget,\n",
    "             camera_z = camera_z_widget,\n",
    "            )"
   ]
  },
  {
   "cell_type": "markdown",
   "metadata": {},
   "source": [
    "### Plotly Graph Objects example\n",
    "\n",
    "The palette, view angles, opacity of spheres, size of spheres, and color gradient atrribute is adjustable using widgets.\n",
    "\n",
    "This is based on the Plotly examples [here](https://github.com/fomightez/Plotly3d-scatter-plots.ipynb) combined with [ipywidgets adjusting plot options](https://github.com/binder-examples/jupyter-extension).\n",
    "\n",
    "**When this notebook is opened in active form, the old plot will not be seen. You need to re-run the cells to see the output & widgets for adjusting the settings.**"
   ]
  },
  {
   "cell_type": "code",
   "execution_count": 3,
   "metadata": {},
   "outputs": [
    {
     "data": {
      "application/vnd.jupyter.widget-view+json": {
       "model_id": "253ee302b76d4377b705fd4b30f49bbb",
       "version_major": 2,
       "version_minor": 0
      },
      "text/plain": [
       "interactive(children=(FloatSlider(value=0.85, continuous_update=False, description='opacity', max=1.0, readout…"
      ]
     },
     "metadata": {},
     "output_type": "display_data"
    }
   ],
   "source": [
    "import pandas as pd\n",
    "import matplotlib.pyplot as plt\n",
    "import numpy as np\n",
    "import seaborn as sns\n",
    "from mpl_toolkits.mplot3d import Axes3D\n",
    "from ipywidgets import interact\n",
    "from ipywidgets.widgets import FloatSlider, IntSlider, Dropdown\n",
    "#plt.ion()\n",
    "import plotly.express # only using as source of data in this cell\n",
    "import plotly.graph_objects as go\n",
    "\n",
    "df = plotly.express.data.iris()\n",
    "\n",
    "cmaps = ['viridis', 'magma','plasma','icefire','RdYlBu','YlGnBu','hsv']\n",
    "v_angles = [\"1.5, 1.5, 0.7\",\"1, 1, 0.1\",\"2, 2, 0.1\",\"1.5, 0.01, 0.01\",\"1.0, 0.3, 0.99\",\"1.2, 0.9, 0.5\",\"1.0, 0.6, 1.2\"]\n",
    "view_widget = Dropdown(options=v_angles)\n",
    "camera_x_widget= FloatSlider(value=1.5, min=0, max=2.5, step=0.05, readout_format='.3f', continuous_update=False)\n",
    "camera_y_widget= FloatSlider(value=1.5, min=0, max=2.5, step=0.05, readout_format='.3f', continuous_update=False)\n",
    "camera_z_widget= FloatSlider(value=0.7, min=0, max=2.5, step=0.05, readout_format='.3f', continuous_update=False)\n",
    "def update_camera_eye(*args):\n",
    "    view_nums = view_widget.value.split(\",\")\n",
    "    view_nums = [float(x) for x in view_nums]\n",
    "    camera_x_widget.value,camera_y_widget.value,camera_z_widget.value = view_nums\n",
    "view_widget.observe(update_camera_eye, 'value')\n",
    "def plot_data(opacity, cmap, coloring, marker_size,view_choice,camera_x,camera_y,camera_z):\n",
    "    fig = go.Figure(data=[go.Scatter3d(x=df['sepal_length'], y=df['sepal_width'], z=df['petal_width'], \n",
    "        mode='markers',\n",
    "        marker=dict(\n",
    "            size=marker_size,\n",
    "            color=df[coloring],                # set color to an array/list of desired values\n",
    "            colorbar=dict(\n",
    "                title=coloring #based on https://plotly.com/python/colorscales/#color-scale-for-scatter-plots-with-graph-objects\n",
    "            ),\n",
    "            colorscale= cmap,   # choose a colorscale\n",
    "            opacity=opacity\n",
    "        )\n",
    "    )])\n",
    "    camera = dict(\n",
    "    eye=dict(x= camera_x, y=camera_y, z=camera_z)\n",
    "    )\n",
    "    fig.update_layout(scene_camera=camera)\n",
    "    # tight layout\n",
    "    fig.update_layout(margin=dict(l=0, r=0, b=0, t=0))\n",
    "    # add axis labels based on https://plotly.com/python/3d-axes/#set-axes-title , that you\n",
    "    # can arrive at by going to https://plotly.com/python/axes/ and selecting `3D axes` \n",
    "    fig.update_layout(scene = dict(\n",
    "                        xaxis_title=\"sepal_length\",\n",
    "                        yaxis_title=\"sepal_width\",\n",
    "                        zaxis_title=\"petal_width\"),\n",
    "                        )\n",
    "    fig.show()\n",
    "\n",
    "\n",
    "p = interact(plot_data,\n",
    "             opacity=FloatSlider(value=0.85, min=0, max=1.0, step=0.05, readout_format='.3f', continuous_update=False),\n",
    "             cmap=Dropdown(value='viridis',options=cmaps),\n",
    "             coloring=Dropdown(value='petal_length',options=['petal_length','sepal_width','petal_width']),\n",
    "             marker_size= IntSlider(value=9, min=3, max=18, continuous_update=False),view_choice=view_widget,\n",
    "             camera_x = camera_x_widget,\n",
    "             camera_y = camera_y_widget,\n",
    "             camera_z = camera_z_widget,\n",
    "            )"
   ]
  }
 ],
 "metadata": {
  "kernelspec": {
   "display_name": "Python 3",
   "language": "python",
   "name": "python3"
  },
  "language_info": {
   "codemirror_mode": {
    "name": "ipython",
    "version": 3
   },
   "file_extension": ".py",
   "mimetype": "text/x-python",
   "name": "python",
   "nbconvert_exporter": "python",
   "pygments_lexer": "ipython3",
   "version": "3.7.6"
  },
  "rise": {
   "autolaunch": true,
   "enable_chalkboard": true,
   "scroll": true,
   "theme": "white",
   "transition": "zoom"
  }
 },
 "nbformat": 4,
 "nbformat_minor": 4
}
