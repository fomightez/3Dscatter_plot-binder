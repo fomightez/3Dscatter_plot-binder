{
 "cells": [
  {
   "cell_type": "markdown",
   "metadata": {
    "slideshow": {
     "slide_type": "slide"
    }
   },
   "source": [
    "# 3D scatter plot with adjustable settings\n",
    "\n",
    "\n",
    "The idea is that some settings can be offered as selectable settings via a graphical user interface to enable keying in a good combination faster.\n",
    "\n",
    "Note that the use of these approach to add adjustable settings is on another notebook page as it doesn't play well with the use of `%matplotlib notebook` that is encouraged on [the introductory notebook page](index.ipynb).\n",
    "\n",
    "\n",
    "The example here works with with the use of `%matplotlib notebook`; however, it is extra 'choppy'/'laggy'.\n",
    "\n",
    "\n",
    "------\n",
    "\n",
    "<div class=\"alert alert-block alert-warning\">\n",
    "<p>If you haven't used one of these notebooks before, they're basically web pages in which you can write, edit, and run live code. They're meant to encourage experimentation, so don't feel nervous. Just try running a few cells and see what happens!.</p>\n",
    "\n",
    "<p>\n",
    "    Some tips:\n",
    "    <ul>\n",
    "        <li>Code cells have boxes around them.</li>\n",
    "        <li>To run a code cell either click the Play icon on the menu bar above, or click on the cell and then hit <b>Shift+Enter</b>. The <b>Shift+Enter</b> combo will also move you to the next cell, so it's a quick way to work through the notebook.</li>\n",
    "        <li>While a cell is running a <b>*</b> appears in the square brackets next to the cell. Once the cell has finished running the asterisk will be replaced with a number.</li>\n",
    "        <li>In most cases you'll want to start from the top of notebook and work your way down running each cell in turn. Later cells might depend on the results of earlier ones.</li>\n",
    "        <li>To edit a code cell, just click on it and type stuff. Remember to run the cell once you've finished editing.</li>\n",
    "    </ul>\n",
    "</p>\n",
    "</div>\n",
    "\n",
    "\n"
   ]
  },
  {
   "cell_type": "markdown",
   "metadata": {},
   "source": [
    "-------\n",
    "\n",
    "## Matplotlib example with legend and adjustable options\n",
    "\n",
    "The palette, view angles, opacity of spheres, and color gradient atrribure is adjustable using widgets.\n",
    "\n",
    "This is based on the Matplotlib examples in the first notebook [here](https://github.com/fomightez/3Dscatter_plot-binder) combined with [ipywidgets adjusting plot options](https://github.com/binder-examples/jupyter-extension).\n",
    "\n",
    "\n",
    "**When this notebook is opened in active form, the old plot will not be seen. You need to re-run the cells to see the output & widgets for adjusting the settings.**"
   ]
  },
  {
   "cell_type": "code",
   "execution_count": 1,
   "metadata": {},
   "outputs": [
    {
     "name": "stdout",
     "output_type": "stream",
     "text": [
      "  % Total    % Received % Xferd  Average Speed   Time    Time     Time  Current\n",
      "                                 Dload  Upload   Total   Spent    Left  Speed\n",
      "100 84199  100 84199    0     0   219k      0 --:--:-- --:--:-- --:--:--  219k\n",
      "  % Total    % Received % Xferd  Average Speed   Time    Time     Time  Current\n",
      "                                 Dload  Upload   Total   Spent    Left  Speed\n",
      "100  258k  100  258k    0     0   585k      0 --:--:-- --:--:-- --:--:--  585k\n",
      "red wines: 1599\n",
      "white wines: 4898\n",
      "wines: 6497\n",
      "\n",
      "ADJUSTABLE SETTINGS:\n"
     ]
    },
    {
     "data": {
      "application/vnd.jupyter.widget-view+json": {
       "model_id": "7bd0fd17031f46c5b48bf3ef8656a545",
       "version_major": 2,
       "version_minor": 0
      },
      "text/plain": [
       "interactive(children=(FloatSlider(value=0.75, description='transparency', max=1.0, readout_format='.3f', step=…"
      ]
     },
     "metadata": {},
     "output_type": "display_data"
    }
   ],
   "source": [
    "%matplotlib inline\n",
    "import pandas as pd\n",
    "import matplotlib.pyplot as plt\n",
    "import numpy as np\n",
    "import seaborn as sns\n",
    "from mpl_toolkits.mplot3d import Axes3D\n",
    "from ipywidgets import interact\n",
    "from ipywidgets.widgets import FloatSlider, Dropdown\n",
    "plt.ion()\n",
    "\n",
    "!curl -OL https://archive.ics.uci.edu/ml/machine-learning-databases/wine-quality/winequality-red.csv\n",
    "!curl -OL https://archive.ics.uci.edu/ml/machine-learning-databases/wine-quality/winequality-white.csv\n",
    "red_wine   = pd.read_csv('winequality-red.csv',   sep=';')\n",
    "white_wine = pd.read_csv('winequality-white.csv', sep=';')\n",
    "wines = pd.concat([red_wine,white_wine], ignore_index=True)\n",
    "print(\"red wines:\",len(red_wine))\n",
    "print(\"white wines:\",len(white_wine))\n",
    "print(\"wines:\",len(wines))\n",
    "print(\"\\nADJUSTABLE SETTINGS:\")\n",
    "\n",
    "xs = wines['residual sugar']\n",
    "ys = wines['fixed acidity']\n",
    "zs = wines['alcohol']\n",
    "\n",
    "\n",
    "cmaps = ['coolwarm', 'viridis', 'magma','plasma','RdYlBu','YlGnBu','hsv']\n",
    "v_angles = [\"30, 185\",\"50, 185\",\"230,110\",\"1,140\"]\n",
    "def plot_data(transparency, cmap, coloring, view):\n",
    "    fig = plt.figure(figsize=(8, 6))\n",
    "    ax = fig.add_subplot(111, projection='3d')\n",
    "    g = ax.scatter(xs, ys, zs, s=50, alpha=transparency, edgecolors='w', marker='o', depthshade=False, c=wines[coloring], cmap=cmap)\n",
    "    view_nums = view.split(\",\")\n",
    "    view_nums = [int(x) for x in view_nums]\n",
    "    ax.view_init(view_nums[0],view_nums[1])\n",
    "    ax.set_xlabel('Residual Sugar')\n",
    "    ax.set_ylabel('Fixed Acidity')\n",
    "    ax.set_zlabel('Alcohol')\n",
    "    legend = ax.legend(*g.legend_elements(), loc=\"lower center\", title=coloring, borderaxespad=-10, ncol=4)\n",
    "    ax.add_artist(legend)\n",
    "    plt.show()\n",
    "\n",
    "\n",
    "p = interact(plot_data,\n",
    "             transparency=FloatSlider(value=0.75, min=0, max=1.0, step=0.05, readout_format='.3f'),\n",
    "             cmap=Dropdown(value='magma',options=cmaps),\n",
    "             coloring=Dropdown(value='alcohol',options=['residual sugar','fixed acidity','alcohol']),\n",
    "             view=Dropdown(options=v_angles),\n",
    "            )"
   ]
  }
 ],
 "metadata": {
  "kernelspec": {
   "display_name": "Python 3",
   "language": "python",
   "name": "python3"
  },
  "language_info": {
   "codemirror_mode": {
    "name": "ipython",
    "version": 3
   },
   "file_extension": ".py",
   "mimetype": "text/x-python",
   "name": "python",
   "nbconvert_exporter": "python",
   "pygments_lexer": "ipython3",
   "version": "3.7.6"
  },
  "rise": {
   "autolaunch": true,
   "enable_chalkboard": true,
   "scroll": true,
   "theme": "white",
   "transition": "zoom"
  }
 },
 "nbformat": 4,
 "nbformat_minor": 4
}
