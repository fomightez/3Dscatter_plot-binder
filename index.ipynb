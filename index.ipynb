{
 "cells": [
  {
   "cell_type": "markdown",
   "metadata": {
    "slideshow": {
     "slide_type": "slide"
    }
   },
   "source": [
    "# 3D scatter plot and related plots\n",
    "\n",
    "If this notebook is not in active (runnable) form, go to [here](https://github.com/fomightez/3Dscatter_plot-binder) and press `launch binder`.\n",
    "\n",
    "(This notebook also works in sessions launched from [here](https://github.com/fomightez/Python_basics_4nanocourse).)\n",
    "\n",
    "------\n",
    "\n",
    "<div class=\"alert alert-block alert-warning\">\n",
    "<p>If you haven't used one of these notebooks before, they're basically web pages in which you can write, edit, and run live code. They're meant to encourage experimentation, so don't feel nervous. Just try running a few cells and see what happens!.</p>\n",
    "\n",
    "<p>\n",
    "    Some tips:\n",
    "    <ul>\n",
    "        <li>Code cells have boxes around them.</li>\n",
    "        <li>To run a code cell either click the Play icon on the menu bar above, or click on the cell and then hit <b>Shift+Enter</b>. The <b>Shift+Enter</b> combo will also move you to the next cell, so it's a quick way to work through the notebook.</li>\n",
    "        <li>While a cell is running a <b>*</b> appears in the square brackets next to the cell. Once the cell has finished running the asterisk will be replaced with a number.</li>\n",
    "        <li>In most cases you'll want to start from the top of notebook and work your way down running each cell in turn. Later cells might depend on the results of earlier ones.</li>\n",
    "        <li>To edit a code cell, just click on it and type stuff. Remember to run the cell once you've finished editing.</li>\n",
    "    </ul>\n",
    "</p>\n",
    "</div>\n",
    "\n",
    "\n",
    "\n",
    "\n",
    "----\n",
    "\n",
    "## 3D scatter plot \n",
    "\n",
    "### Matplotlib-based\n",
    "\n",
    "Based on [3D Scatterplot page](https://python-graph-gallery.com/370-3d-scatterplot/) from Yan Holtz's [Python Graph Gallery](https://python-graph-gallery.com/)."
   ]
  },
  {
   "cell_type": "code",
   "execution_count": null,
   "metadata": {},
   "outputs": [],
   "source": [
    "%matplotlib notebook\n",
    "from mpl_toolkits.mplot3d import Axes3D\n",
    "import matplotlib.pyplot as plt\n",
    "import numpy as np\n",
    "import pandas as pd\n",
    " \n",
    "# Dataset\n",
    "df=pd.DataFrame({'X': range(1,101), 'Y': np.random.randn(100)*15+range(1,101), 'Z': (np.random.randn(100)*15+range(1,101))*2 })\n",
    " \n",
    "# plot\n",
    "fig = plt.figure()\n",
    "ax = fig.add_subplot(111, projection='3d')\n",
    "ax.scatter(df['X'], df['Y'], df['Z'], c='skyblue', s=60)\n",
    "ax.view_init(50, 185)\n",
    "plt.show()\n"
   ]
  },
  {
   "cell_type": "markdown",
   "metadata": {},
   "source": [
    "Using `%matplotlib notebook` results in an rotatable 3D view.  \n",
    "Change that line to `%matplotlib inline` for static view.\n",
    "\n",
    "The same holds for other plots below on this page."
   ]
  },
  {
   "cell_type": "markdown",
   "metadata": {},
   "source": [
    "Next example, based on [Part #3](https://jovianlin.io/data-visualization-seaborn-part-3/) of Jovian Lin's 3-part series [Data Visualization with Seaborn](https://jovianlin.io/data-visualization-seaborn-part-1/); however that section acknowledges the solution is based on Matplotlib:"
   ]
  },
  {
   "cell_type": "code",
   "execution_count": null,
   "metadata": {},
   "outputs": [],
   "source": [
    "%matplotlib notebook\n",
    "import pandas as pd\n",
    "import matplotlib.pyplot as plt\n",
    "import numpy as np\n",
    "import seaborn as sns\n",
    "from mpl_toolkits.mplot3d import Axes3D\n",
    "\n",
    "!curl -OL https://archive.ics.uci.edu/ml/machine-learning-databases/wine-quality/winequality-red.csv\n",
    "!curl -OL https://archive.ics.uci.edu/ml/machine-learning-databases/wine-quality/winequality-white.csv\n",
    "red_wine   = pd.read_csv('winequality-red.csv',   sep=';')\n",
    "white_wine = pd.read_csv('winequality-white.csv', sep=';')\n",
    "wines = pd.concat([red_wine,white_wine], ignore_index=True)\n",
    "print(\"red wines:\",len(red_wine))\n",
    "print(\"white wines:\",len(white_wine))\n",
    "print(\"wines:\",len(wines))\n",
    "\n",
    "fig = plt.figure(figsize=(8, 6))\n",
    "ax = fig.add_subplot(111, projection='3d')\n",
    "\n",
    "xs = wines['residual sugar']\n",
    "ys = wines['fixed acidity']\n",
    "zs = wines['alcohol']\n",
    "ax.scatter(xs, ys, zs, s=50, alpha=0.6, edgecolors='w')\n",
    "\n",
    "ax.set_xlabel('Residual Sugar')\n",
    "ax.set_ylabel('Fixed Acidity')\n",
    "ax.set_zlabel('Alcohol')\n",
    "\n",
    "plt.show()"
   ]
  },
  {
   "cell_type": "markdown",
   "metadata": {},
   "source": [
    "The earlier parts of the code in the cell above were built-based on the earlier parts of that series."
   ]
  },
  {
   "cell_type": "markdown",
   "metadata": {},
   "source": [
    "## 2D, Seaborn-based approach, better?\n",
    "\n",
    "Based on [Part #3](https://jovianlin.io/data-visualization-seaborn-part-3/) of Jovian Lin's 3-part series [Data Visualization with Seaborn](https://jovianlin.io/data-visualization-seaborn-part-1/):\n",
    "    \n",
    ">\"The better alternative — using Seaborn + toggle the size via the s parameter:\"\n",
    "\n",
    "The earlier parts of the code below were built-based on the earlier parts of the series."
   ]
  },
  {
   "cell_type": "code",
   "execution_count": null,
   "metadata": {},
   "outputs": [],
   "source": [
    "%matplotlib notebook\n",
    "import pandas as pd\n",
    "import matplotlib.pyplot as plt\n",
    "import numpy as np\n",
    "import seaborn as sns\n",
    "from mpl_toolkits.mplot3d import Axes3D\n",
    "\n",
    "!curl -OL https://archive.ics.uci.edu/ml/machine-learning-databases/wine-quality/winequality-red.csv\n",
    "!curl -OL https://archive.ics.uci.edu/ml/machine-learning-databases/wine-quality/winequality-white.csv\n",
    "red_wine   = pd.read_csv('winequality-red.csv',   sep=';')\n",
    "white_wine = pd.read_csv('winequality-white.csv', sep=';')\n",
    "wines = pd.concat([red_wine,white_wine], ignore_index=True)\n",
    "print(\"red wines:\",len(red_wine))\n",
    "print(\"white wines:\",len(white_wine))\n",
    "print(\"wines:\",len(wines))\n",
    "plt.scatter(x = wines['fixed acidity'], \n",
    "            y = wines['alcohol'], \n",
    "            s = wines['residual sugar']*25, # <== 😀 Look here!\n",
    "            alpha=0.4, \n",
    "            edgecolors='w')\n",
    "\n",
    "plt.xlabel('Fixed Acidity')\n",
    "plt.ylabel('Alcohol')\n",
    "plt.title('Wine Alcohol Content - Fixed Acidity - Residual Sugar', y=1.05);"
   ]
  },
  {
   "cell_type": "markdown",
   "metadata": {},
   "source": [
    "------\n",
    "\n",
    "### Plotly\n",
    "\n",
    "Plotly has all sorts of options for 3D scatter plots. See [this notebook](Plotly3d-scatter-plots.ipynb) for a demo here with links to original source."
   ]
  }
 ],
 "metadata": {
  "kernelspec": {
   "display_name": "Python 3",
   "language": "python",
   "name": "python3"
  },
  "language_info": {
   "codemirror_mode": {
    "name": "ipython",
    "version": 3
   },
   "file_extension": ".py",
   "mimetype": "text/x-python",
   "name": "python",
   "nbconvert_exporter": "python",
   "pygments_lexer": "ipython3",
   "version": "3.7.6"
  },
  "rise": {
   "autolaunch": true,
   "enable_chalkboard": true,
   "scroll": true,
   "theme": "white",
   "transition": "zoom"
  }
 },
 "nbformat": 4,
 "nbformat_minor": 4
}
