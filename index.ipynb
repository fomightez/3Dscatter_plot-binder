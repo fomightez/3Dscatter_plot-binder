{
 "cells": [
  {
   "cell_type": "markdown",
   "metadata": {},
   "source": [
    "# 3D scatter plots in Python demonstration notebooks\n",
    "\n",
    "My collection demonstrating useful 3D scatter plots, associated visualizations, and interfaces for adjusting the scatter plots implemented in Python/Jupyter.  \n",
    "\n",
    "\n",
    "-----\n",
    "\n",
    "Select a notebook from the list below:\n",
    "\n",
    "\n",
    "### Available Demonstration Notebooks\n",
    "\n",
    "- [3D scatter plot basics](matplotlib3d-scatter-plots.ipynb)\n",
    "- [3D scatter plots via Plotly](Plotly3d-scatter-plots.ipynb)\n",
    "- [3D scatter plots customizable via widgets](3D_scatter_adjustableVIAwidgets.ipynb)\n",
    "- [3D scatter plot using data in a file and Voila interface](3D_scatter_Voila_matplotlibADJUSTABLE.ipynb)\n",
    "- [streamlined 3D scatter plot in Voila interface](????.ipynb)  <=== Coming soon\n",
    "\n",
    "### Coming soon / available at another link\n",
    "\n",
    "- ???????\n",
    "\n",
    "    There is a related notebook available from ????\n",
    "    \n",
    "----\n",
    "    \n",
    "----    \n"
   ]
  }
 ],
 "metadata": {
  "kernelspec": {
   "display_name": "Python 3",
   "language": "python",
   "name": "python3"
  },
  "language_info": {
   "codemirror_mode": {
    "name": "ipython",
    "version": 3
   },
   "file_extension": ".py",
   "mimetype": "text/x-python",
   "name": "python",
   "nbconvert_exporter": "python",
   "pygments_lexer": "ipython3",
   "version": "3.7.6"
  }
 },
 "nbformat": 4,
 "nbformat_minor": 2
}
